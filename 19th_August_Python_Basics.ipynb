{
 "cells": [
  {
   "cell_type": "markdown",
   "id": "091d073f-f0ef-4d51-9b96-7bae7390b96c",
   "metadata": {},
   "source": [
    "PYTHON BASIC VARIABLES\n",
    "\n",
    "1. Swapping two integer values using Arithmetic operators"
   ]
  },
  {
   "cell_type": "code",
   "execution_count": 20,
   "id": "8006cd65-fca2-4ec0-b7db-bae3a5df99a3",
   "metadata": {},
   "outputs": [
    {
     "name": "stdout",
     "output_type": "stream",
     "text": [
      "Before swapping : x = 10 ,y =  20\n",
      "After swapping : x =  20 , y = 10\n"
     ]
    }
   ],
   "source": [
    "#Giving two random integer values\n",
    "\n",
    "x = 10\n",
    "\n",
    "y = 20\n",
    "\n",
    "#Two given integer values Before swapping\n",
    "\n",
    "print(\"Before swapping : x =\", x,\",y = \", y)\n",
    "\n",
    "x = x + y\n",
    "\n",
    "x\n",
    "\n",
    "y = x - y\n",
    "\n",
    "y\n",
    "\n",
    "x = x - y\n",
    "\n",
    "x\n",
    "\n",
    "#After swapping\n",
    "\n",
    "print(\"After swapping : x = \", x,\", y =\", y)"
   ]
  },
  {
   "cell_type": "code",
   "execution_count": null,
   "id": "f4937816-fb9a-4a39-8530-00c354725dc1",
   "metadata": {},
   "outputs": [],
   "source": []
  },
  {
   "cell_type": "markdown",
   "id": "52de0c11-8d11-4c3c-9e33-7357242e1931",
   "metadata": {},
   "source": [
    "2. calculates the area of a rectangle."
   ]
  },
  {
   "cell_type": "code",
   "execution_count": null,
   "id": "984c8a8c-b545-4820-bedc-d1c4e5ad674b",
   "metadata": {},
   "outputs": [],
   "source": [
    "#Getting a length and width from the user"
   ]
  },
  {
   "cell_type": "code",
   "execution_count": 11,
   "id": "b23b071f-2d18-467b-87e7-43550ba321bb",
   "metadata": {},
   "outputs": [
    {
     "name": "stdin",
     "output_type": "stream",
     "text": [
      "Enter the length of the Rectangle : 10\n",
      "Enter the width of the Rectangle : 10\n"
     ]
    },
    {
     "name": "stdout",
     "output_type": "stream",
     "text": [
      "The area of Rectangle is : 100.0\n"
     ]
    }
   ],
   "source": [
    "length = float(input(\"Enter the length of the Rectangle :\"))\n",
    "width = float(input(\"Enter the width of the Rectangle :\"))\n",
    "\n",
    "#calulate and print the area of rectangle\n",
    "\n",
    "print(\"The area of Rectangle is :\",length * width)"
   ]
  },
  {
   "cell_type": "markdown",
   "id": "f486eeb0-8aa5-4089-a5ee-c26bd8d85b71",
   "metadata": {},
   "source": [
    "3. Converts temperatures from Celsius to Fahrenheit."
   ]
  },
  {
   "cell_type": "code",
   "execution_count": 21,
   "id": "ee5c4f8d-344e-4058-8de3-a7460887ccfd",
   "metadata": {},
   "outputs": [
    {
     "name": "stdin",
     "output_type": "stream",
     "text": [
      "Enter the temprature in celcius: 30\n"
     ]
    },
    {
     "name": "stdout",
     "output_type": "stream",
     "text": [
      "The Fahrenheit equivalent of 30.0 celcius is : 86.0\n"
     ]
    }
   ],
   "source": [
    "#Getting a Temprature in Celcius from user\n",
    "\n",
    "x = float(input(\"Enter the temprature in celcius:\"))\n",
    "\n",
    "#The formula to convert celcius into fehrenheit\n",
    "\n",
    "celcius = x * 1.8 + 32\n",
    "\n",
    "#Result\n",
    "\n",
    "print(\"The Fahrenheit equivalent of\",x,\"celcius is :\", celcius)"
   ]
  },
  {
   "cell_type": "markdown",
   "id": "811f564f-82ae-48bf-9877-a28c6cc947ac",
   "metadata": {},
   "source": [
    "STRING BASED QUESTIONS\n",
    "\n",
    "1. Finding length of the string."
   ]
  },
  {
   "cell_type": "code",
   "execution_count": 35,
   "id": "eebf29c6-559d-4429-8dc0-09dbb1c84656",
   "metadata": {},
   "outputs": [],
   "source": [
    "#Assinging string variables \n",
    "\n",
    "x = \"Python is awsome\"\n",
    "\n",
    "#Finding length of the string\n",
    "\n",
    "print(len(x))"
   ]
  },
  {
   "cell_type": "markdown",
   "id": "c3c3fa13-e956-4c30-94b0-935e418ca99c",
   "metadata": {},
   "source": [
    "2. Counts the number of vowels in a sentence from the user."
   ]
  },
  {
   "cell_type": "code",
   "execution_count": 13,
   "id": "b72639c3-8916-464b-bf2b-3ea9ba0577c4",
   "metadata": {},
   "outputs": [
    {
     "name": "stdin",
     "output_type": "stream",
     "text": [
      "write any sentence: python is awsome\n"
     ]
    },
    {
     "name": "stdout",
     "output_type": "stream",
     "text": [
      "Vowel counts in given sentence is : 5\n"
     ]
    }
   ],
   "source": [
    "#Getting sentence from user\n",
    "\n",
    "string = input(\"write any sentence:\")\n",
    "\n",
    "#Assinging vowels\n",
    "\n",
    "vowels = \"aeiouAEIOU\"\n",
    "\n",
    "#Using a for loop to iterate over a given sequence to find vowels \n",
    "\n",
    "count = sum(string.count(vowel) for vowel in vowels)\n",
    "\n",
    "print(\"Vowel counts in given sentence is :\", count)"
   ]
  },
  {
   "cell_type": "markdown",
   "id": "d12e8a80-2cb8-4547-8961-84149df6c19a",
   "metadata": {},
   "source": [
    "3. reverse the order of characters using string slicing"
   ]
  },
  {
   "cell_type": "code",
   "execution_count": 14,
   "id": "4b2a5052-c8f4-4060-b638-94514097db8b",
   "metadata": {},
   "outputs": [
    {
     "name": "stdout",
     "output_type": "stream",
     "text": [
      "The reverse order of PWSKILLS is : SLLIKSWP\n"
     ]
    }
   ],
   "source": [
    "#Assigning the string value\n",
    "\n",
    "x = \"PWSKILLS\"\n",
    "\n",
    "len(x)\n",
    "\n",
    "#Length of the string is 8\n",
    "\n",
    "#For backaword indexing -1 is for negative direction\n",
    "\n",
    "reverse_order = x[7:-9:-1]\n",
    "\n",
    "print(\"The reverse order of PWSKILLS is :\", reverse_order)"
   ]
  },
  {
   "cell_type": "markdown",
   "id": "fd3cb2b4-a534-4a83-b473-596f1c828276",
   "metadata": {},
   "source": [
    "4. Palindrome"
   ]
  },
  {
   "cell_type": "code",
   "execution_count": 15,
   "id": "69eed123-65f7-4abe-a148-8e23bbea1b3f",
   "metadata": {},
   "outputs": [
    {
     "name": "stdin",
     "output_type": "stream",
     "text": [
      "Enter a letter: malayalam\n"
     ]
    },
    {
     "name": "stdout",
     "output_type": "stream",
     "text": [
      "The letter is a palindrome\n"
     ]
    }
   ],
   "source": [
    "#Getting string characters from user\n",
    "\n",
    "string=input((\"Enter a letter:\"))\n",
    "\n",
    "#finding a palindrome using backword index function\n",
    "\n",
    "if(string==string[::-1]):\n",
    "    \n",
    "      print(\"The letter is a palindrome\")\n",
    "else:\n",
    "      print(\"The letter is not a palindrome\")"
   ]
  },
  {
   "cell_type": "markdown",
   "id": "43c5c8de-11e1-45c3-a445-5364adfec6c6",
   "metadata": {},
   "source": [
    "5. removes all the spaces"
   ]
  },
  {
   "cell_type": "code",
   "execution_count": 16,
   "id": "dbb36c10-7807-4e2b-9154-7d7540c4903a",
   "metadata": {},
   "outputs": [
    {
     "data": {
      "text/plain": [
       "'Pythonisawsome'"
      ]
     },
     "execution_count": 16,
     "metadata": {},
     "output_type": "execute_result"
    }
   ],
   "source": [
    "#Remove all spaces using Replace function\n",
    "x = \"Python     is  awsome   \"\n",
    "x.replace(\" \",\"\")"
   ]
  }
 ],
 "metadata": {
  "kernelspec": {
   "display_name": "Python 3 (ipykernel)",
   "language": "python",
   "name": "python3"
  },
  "language_info": {
   "codemirror_mode": {
    "name": "ipython",
    "version": 3
   },
   "file_extension": ".py",
   "mimetype": "text/x-python",
   "name": "python",
   "nbconvert_exporter": "python",
   "pygments_lexer": "ipython3",
   "version": "3.10.8"
  }
 },
 "nbformat": 4,
 "nbformat_minor": 5
}
